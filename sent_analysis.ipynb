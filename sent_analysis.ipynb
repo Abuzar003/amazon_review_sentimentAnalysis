{
 "cells": [
  {
   "cell_type": "code",
   "execution_count": 55,
   "id": "6d585c92-abdc-4156-b12a-f46b7df17b5b",
   "metadata": {},
   "outputs": [
    {
     "name": "stderr",
     "output_type": "stream",
     "text": [
      "[nltk_data] Downloading collection 'all'\n",
      "[nltk_data]    | \n",
      "[nltk_data]    | Downloading package abc to C:\\Users\\Mecaps Lenovo\n",
      "[nltk_data]    |     L470\\AppData\\Roaming\\nltk_data...\n",
      "[nltk_data]    |   Package abc is already up-to-date!\n",
      "[nltk_data]    | Downloading package alpino to C:\\Users\\Mecaps Lenovo\n",
      "[nltk_data]    |     L470\\AppData\\Roaming\\nltk_data...\n",
      "[nltk_data]    |   Package alpino is already up-to-date!\n",
      "[nltk_data]    | Downloading package averaged_perceptron_tagger to\n",
      "[nltk_data]    |     C:\\Users\\Mecaps Lenovo\n",
      "[nltk_data]    |     L470\\AppData\\Roaming\\nltk_data...\n",
      "[nltk_data]    |   Package averaged_perceptron_tagger is already up-\n",
      "[nltk_data]    |       to-date!\n",
      "[nltk_data]    | Downloading package averaged_perceptron_tagger_ru to\n",
      "[nltk_data]    |     C:\\Users\\Mecaps Lenovo\n",
      "[nltk_data]    |     L470\\AppData\\Roaming\\nltk_data...\n",
      "[nltk_data]    |   Package averaged_perceptron_tagger_ru is already\n",
      "[nltk_data]    |       up-to-date!\n",
      "[nltk_data]    | Downloading package basque_grammars to\n",
      "[nltk_data]    |     C:\\Users\\Mecaps Lenovo\n",
      "[nltk_data]    |     L470\\AppData\\Roaming\\nltk_data...\n",
      "[nltk_data]    |   Package basque_grammars is already up-to-date!\n",
      "[nltk_data]    | Downloading package bcp47 to C:\\Users\\Mecaps Lenovo\n",
      "[nltk_data]    |     L470\\AppData\\Roaming\\nltk_data...\n",
      "[nltk_data]    |   Package bcp47 is already up-to-date!\n",
      "[nltk_data]    | Downloading package biocreative_ppi to\n",
      "[nltk_data]    |     C:\\Users\\Mecaps Lenovo\n",
      "[nltk_data]    |     L470\\AppData\\Roaming\\nltk_data...\n",
      "[nltk_data]    |   Package biocreative_ppi is already up-to-date!\n",
      "[nltk_data]    | Downloading package bllip_wsj_no_aux to\n",
      "[nltk_data]    |     C:\\Users\\Mecaps Lenovo\n",
      "[nltk_data]    |     L470\\AppData\\Roaming\\nltk_data...\n",
      "[nltk_data]    |   Package bllip_wsj_no_aux is already up-to-date!\n",
      "[nltk_data]    | Downloading package book_grammars to C:\\Users\\Mecaps\n",
      "[nltk_data]    |     Lenovo L470\\AppData\\Roaming\\nltk_data...\n",
      "[nltk_data]    |   Package book_grammars is already up-to-date!\n",
      "[nltk_data]    | Downloading package brown to C:\\Users\\Mecaps Lenovo\n",
      "[nltk_data]    |     L470\\AppData\\Roaming\\nltk_data...\n",
      "[nltk_data]    |   Package brown is already up-to-date!\n",
      "[nltk_data]    | Downloading package brown_tei to C:\\Users\\Mecaps\n",
      "[nltk_data]    |     Lenovo L470\\AppData\\Roaming\\nltk_data...\n",
      "[nltk_data]    |   Package brown_tei is already up-to-date!\n",
      "[nltk_data]    | Downloading package cess_cat to C:\\Users\\Mecaps\n",
      "[nltk_data]    |     Lenovo L470\\AppData\\Roaming\\nltk_data...\n",
      "[nltk_data]    |   Package cess_cat is already up-to-date!\n",
      "[nltk_data]    | Downloading package cess_esp to C:\\Users\\Mecaps\n",
      "[nltk_data]    |     Lenovo L470\\AppData\\Roaming\\nltk_data...\n",
      "[nltk_data]    |   Package cess_esp is already up-to-date!\n",
      "[nltk_data]    | Downloading package chat80 to C:\\Users\\Mecaps Lenovo\n",
      "[nltk_data]    |     L470\\AppData\\Roaming\\nltk_data...\n",
      "[nltk_data]    |   Package chat80 is already up-to-date!\n",
      "[nltk_data]    | Downloading package city_database to C:\\Users\\Mecaps\n",
      "[nltk_data]    |     Lenovo L470\\AppData\\Roaming\\nltk_data...\n",
      "[nltk_data]    |   Package city_database is already up-to-date!\n",
      "[nltk_data]    | Downloading package cmudict to C:\\Users\\Mecaps Lenovo\n",
      "[nltk_data]    |     L470\\AppData\\Roaming\\nltk_data...\n",
      "[nltk_data]    |   Package cmudict is already up-to-date!\n",
      "[nltk_data]    | Downloading package comparative_sentences to\n",
      "[nltk_data]    |     C:\\Users\\Mecaps Lenovo\n",
      "[nltk_data]    |     L470\\AppData\\Roaming\\nltk_data...\n",
      "[nltk_data]    |   Package comparative_sentences is already up-to-\n",
      "[nltk_data]    |       date!\n",
      "[nltk_data]    | Downloading package comtrans to C:\\Users\\Mecaps\n",
      "[nltk_data]    |     Lenovo L470\\AppData\\Roaming\\nltk_data...\n",
      "[nltk_data]    |   Package comtrans is already up-to-date!\n",
      "[nltk_data]    | Downloading package conll2000 to C:\\Users\\Mecaps\n",
      "[nltk_data]    |     Lenovo L470\\AppData\\Roaming\\nltk_data...\n",
      "[nltk_data]    |   Package conll2000 is already up-to-date!\n",
      "[nltk_data]    | Downloading package conll2002 to C:\\Users\\Mecaps\n",
      "[nltk_data]    |     Lenovo L470\\AppData\\Roaming\\nltk_data...\n",
      "[nltk_data]    |   Package conll2002 is already up-to-date!\n",
      "[nltk_data]    | Downloading package conll2007 to C:\\Users\\Mecaps\n",
      "[nltk_data]    |     Lenovo L470\\AppData\\Roaming\\nltk_data...\n",
      "[nltk_data]    |   Package conll2007 is already up-to-date!\n",
      "[nltk_data]    | Downloading package crubadan to C:\\Users\\Mecaps\n",
      "[nltk_data]    |     Lenovo L470\\AppData\\Roaming\\nltk_data...\n",
      "[nltk_data]    |   Package crubadan is already up-to-date!\n",
      "[nltk_data]    | Downloading package dependency_treebank to\n",
      "[nltk_data]    |     C:\\Users\\Mecaps Lenovo\n",
      "[nltk_data]    |     L470\\AppData\\Roaming\\nltk_data...\n",
      "[nltk_data]    |   Package dependency_treebank is already up-to-date!\n",
      "[nltk_data]    | Downloading package dolch to C:\\Users\\Mecaps Lenovo\n",
      "[nltk_data]    |     L470\\AppData\\Roaming\\nltk_data...\n",
      "[nltk_data]    |   Package dolch is already up-to-date!\n",
      "[nltk_data]    | Downloading package europarl_raw to C:\\Users\\Mecaps\n",
      "[nltk_data]    |     Lenovo L470\\AppData\\Roaming\\nltk_data...\n",
      "[nltk_data]    |   Package europarl_raw is already up-to-date!\n",
      "[nltk_data]    | Downloading package extended_omw to C:\\Users\\Mecaps\n",
      "[nltk_data]    |     Lenovo L470\\AppData\\Roaming\\nltk_data...\n",
      "[nltk_data]    |   Package extended_omw is already up-to-date!\n",
      "[nltk_data]    | Downloading package floresta to C:\\Users\\Mecaps\n",
      "[nltk_data]    |     Lenovo L470\\AppData\\Roaming\\nltk_data...\n",
      "[nltk_data]    |   Package floresta is already up-to-date!\n",
      "[nltk_data]    | Downloading package framenet_v15 to C:\\Users\\Mecaps\n",
      "[nltk_data]    |     Lenovo L470\\AppData\\Roaming\\nltk_data...\n",
      "[nltk_data]    |   Package framenet_v15 is already up-to-date!\n",
      "[nltk_data]    | Downloading package framenet_v17 to C:\\Users\\Mecaps\n",
      "[nltk_data]    |     Lenovo L470\\AppData\\Roaming\\nltk_data...\n",
      "[nltk_data]    |   Package framenet_v17 is already up-to-date!\n",
      "[nltk_data]    | Downloading package gazetteers to C:\\Users\\Mecaps\n",
      "[nltk_data]    |     Lenovo L470\\AppData\\Roaming\\nltk_data...\n",
      "[nltk_data]    |   Package gazetteers is already up-to-date!\n",
      "[nltk_data]    | Downloading package genesis to C:\\Users\\Mecaps Lenovo\n",
      "[nltk_data]    |     L470\\AppData\\Roaming\\nltk_data...\n",
      "[nltk_data]    |   Package genesis is already up-to-date!\n",
      "[nltk_data]    | Downloading package gutenberg to C:\\Users\\Mecaps\n",
      "[nltk_data]    |     Lenovo L470\\AppData\\Roaming\\nltk_data...\n",
      "[nltk_data]    |   Package gutenberg is already up-to-date!\n",
      "[nltk_data]    | Downloading package ieer to C:\\Users\\Mecaps Lenovo\n",
      "[nltk_data]    |     L470\\AppData\\Roaming\\nltk_data...\n",
      "[nltk_data]    |   Package ieer is already up-to-date!\n",
      "[nltk_data]    | Downloading package inaugural to C:\\Users\\Mecaps\n",
      "[nltk_data]    |     Lenovo L470\\AppData\\Roaming\\nltk_data...\n",
      "[nltk_data]    |   Package inaugural is already up-to-date!\n",
      "[nltk_data]    | Downloading package indian to C:\\Users\\Mecaps Lenovo\n",
      "[nltk_data]    |     L470\\AppData\\Roaming\\nltk_data...\n",
      "[nltk_data]    |   Package indian is already up-to-date!\n",
      "[nltk_data]    | Downloading package jeita to C:\\Users\\Mecaps Lenovo\n",
      "[nltk_data]    |     L470\\AppData\\Roaming\\nltk_data...\n",
      "[nltk_data]    |   Package jeita is already up-to-date!\n",
      "[nltk_data]    | Downloading package kimmo to C:\\Users\\Mecaps Lenovo\n",
      "[nltk_data]    |     L470\\AppData\\Roaming\\nltk_data...\n",
      "[nltk_data]    |   Package kimmo is already up-to-date!\n",
      "[nltk_data]    | Downloading package knbc to C:\\Users\\Mecaps Lenovo\n",
      "[nltk_data]    |     L470\\AppData\\Roaming\\nltk_data...\n",
      "[nltk_data]    |   Package knbc is already up-to-date!\n",
      "[nltk_data]    | Downloading package large_grammars to C:\\Users\\Mecaps\n",
      "[nltk_data]    |     Lenovo L470\\AppData\\Roaming\\nltk_data...\n",
      "[nltk_data]    |   Package large_grammars is already up-to-date!\n",
      "[nltk_data]    | Downloading package lin_thesaurus to C:\\Users\\Mecaps\n",
      "[nltk_data]    |     Lenovo L470\\AppData\\Roaming\\nltk_data...\n",
      "[nltk_data]    |   Package lin_thesaurus is already up-to-date!\n",
      "[nltk_data]    | Downloading package mac_morpho to C:\\Users\\Mecaps\n",
      "[nltk_data]    |     Lenovo L470\\AppData\\Roaming\\nltk_data...\n",
      "[nltk_data]    |   Package mac_morpho is already up-to-date!\n",
      "[nltk_data]    | Downloading package machado to C:\\Users\\Mecaps Lenovo\n",
      "[nltk_data]    |     L470\\AppData\\Roaming\\nltk_data...\n",
      "[nltk_data]    |   Package machado is already up-to-date!\n",
      "[nltk_data]    | Downloading package masc_tagged to C:\\Users\\Mecaps\n",
      "[nltk_data]    |     Lenovo L470\\AppData\\Roaming\\nltk_data...\n",
      "[nltk_data]    |   Package masc_tagged is already up-to-date!\n",
      "[nltk_data]    | Downloading package maxent_ne_chunker to\n",
      "[nltk_data]    |     C:\\Users\\Mecaps Lenovo\n",
      "[nltk_data]    |     L470\\AppData\\Roaming\\nltk_data...\n",
      "[nltk_data]    |   Package maxent_ne_chunker is already up-to-date!\n",
      "[nltk_data]    | Downloading package maxent_treebank_pos_tagger to\n",
      "[nltk_data]    |     C:\\Users\\Mecaps Lenovo\n",
      "[nltk_data]    |     L470\\AppData\\Roaming\\nltk_data...\n",
      "[nltk_data]    |   Package maxent_treebank_pos_tagger is already up-\n",
      "[nltk_data]    |       to-date!\n",
      "[nltk_data]    | Downloading package moses_sample to C:\\Users\\Mecaps\n",
      "[nltk_data]    |     Lenovo L470\\AppData\\Roaming\\nltk_data...\n",
      "[nltk_data]    |   Package moses_sample is already up-to-date!\n",
      "[nltk_data]    | Downloading package movie_reviews to C:\\Users\\Mecaps\n",
      "[nltk_data]    |     Lenovo L470\\AppData\\Roaming\\nltk_data...\n",
      "[nltk_data]    |   Package movie_reviews is already up-to-date!\n",
      "[nltk_data]    | Downloading package mte_teip5 to C:\\Users\\Mecaps\n",
      "[nltk_data]    |     Lenovo L470\\AppData\\Roaming\\nltk_data...\n",
      "[nltk_data]    |   Package mte_teip5 is already up-to-date!\n",
      "[nltk_data]    | Downloading package mwa_ppdb to C:\\Users\\Mecaps\n",
      "[nltk_data]    |     Lenovo L470\\AppData\\Roaming\\nltk_data...\n",
      "[nltk_data]    |   Package mwa_ppdb is already up-to-date!\n",
      "[nltk_data]    | Downloading package names to C:\\Users\\Mecaps Lenovo\n",
      "[nltk_data]    |     L470\\AppData\\Roaming\\nltk_data...\n",
      "[nltk_data]    |   Package names is already up-to-date!\n",
      "[nltk_data]    | Downloading package nombank.1.0 to C:\\Users\\Mecaps\n",
      "[nltk_data]    |     Lenovo L470\\AppData\\Roaming\\nltk_data...\n",
      "[nltk_data]    |   Package nombank.1.0 is already up-to-date!\n",
      "[nltk_data]    | Downloading package nonbreaking_prefixes to\n",
      "[nltk_data]    |     C:\\Users\\Mecaps Lenovo\n",
      "[nltk_data]    |     L470\\AppData\\Roaming\\nltk_data...\n",
      "[nltk_data]    |   Package nonbreaking_prefixes is already up-to-date!\n",
      "[nltk_data]    | Downloading package nps_chat to C:\\Users\\Mecaps\n",
      "[nltk_data]    |     Lenovo L470\\AppData\\Roaming\\nltk_data...\n",
      "[nltk_data]    |   Package nps_chat is already up-to-date!\n",
      "[nltk_data]    | Downloading package omw to C:\\Users\\Mecaps Lenovo\n",
      "[nltk_data]    |     L470\\AppData\\Roaming\\nltk_data...\n",
      "[nltk_data]    |   Package omw is already up-to-date!\n",
      "[nltk_data]    | Downloading package omw-1.4 to C:\\Users\\Mecaps Lenovo\n",
      "[nltk_data]    |     L470\\AppData\\Roaming\\nltk_data...\n",
      "[nltk_data]    |   Package omw-1.4 is already up-to-date!\n",
      "[nltk_data]    | Downloading package opinion_lexicon to\n",
      "[nltk_data]    |     C:\\Users\\Mecaps Lenovo\n",
      "[nltk_data]    |     L470\\AppData\\Roaming\\nltk_data...\n",
      "[nltk_data]    |   Package opinion_lexicon is already up-to-date!\n",
      "[nltk_data]    | Downloading package panlex_swadesh to C:\\Users\\Mecaps\n",
      "[nltk_data]    |     Lenovo L470\\AppData\\Roaming\\nltk_data...\n",
      "[nltk_data]    |   Package panlex_swadesh is already up-to-date!\n",
      "[nltk_data]    | Downloading package paradigms to C:\\Users\\Mecaps\n",
      "[nltk_data]    |     Lenovo L470\\AppData\\Roaming\\nltk_data...\n",
      "[nltk_data]    |   Package paradigms is already up-to-date!\n",
      "[nltk_data]    | Downloading package pe08 to C:\\Users\\Mecaps Lenovo\n",
      "[nltk_data]    |     L470\\AppData\\Roaming\\nltk_data...\n",
      "[nltk_data]    |   Package pe08 is already up-to-date!\n",
      "[nltk_data]    | Downloading package perluniprops to C:\\Users\\Mecaps\n",
      "[nltk_data]    |     Lenovo L470\\AppData\\Roaming\\nltk_data...\n",
      "[nltk_data]    |   Package perluniprops is already up-to-date!\n",
      "[nltk_data]    | Downloading package pil to C:\\Users\\Mecaps Lenovo\n",
      "[nltk_data]    |     L470\\AppData\\Roaming\\nltk_data...\n",
      "[nltk_data]    |   Package pil is already up-to-date!\n",
      "[nltk_data]    | Downloading package pl196x to C:\\Users\\Mecaps Lenovo\n",
      "[nltk_data]    |     L470\\AppData\\Roaming\\nltk_data...\n",
      "[nltk_data]    |   Package pl196x is already up-to-date!\n",
      "[nltk_data]    | Downloading package porter_test to C:\\Users\\Mecaps\n",
      "[nltk_data]    |     Lenovo L470\\AppData\\Roaming\\nltk_data...\n",
      "[nltk_data]    |   Package porter_test is already up-to-date!\n",
      "[nltk_data]    | Downloading package ppattach to C:\\Users\\Mecaps\n",
      "[nltk_data]    |     Lenovo L470\\AppData\\Roaming\\nltk_data...\n",
      "[nltk_data]    |   Package ppattach is already up-to-date!\n",
      "[nltk_data]    | Downloading package problem_reports to\n",
      "[nltk_data]    |     C:\\Users\\Mecaps Lenovo\n",
      "[nltk_data]    |     L470\\AppData\\Roaming\\nltk_data...\n",
      "[nltk_data]    |   Package problem_reports is already up-to-date!\n",
      "[nltk_data]    | Downloading package product_reviews_1 to\n",
      "[nltk_data]    |     C:\\Users\\Mecaps Lenovo\n",
      "[nltk_data]    |     L470\\AppData\\Roaming\\nltk_data...\n",
      "[nltk_data]    |   Package product_reviews_1 is already up-to-date!\n",
      "[nltk_data]    | Downloading package product_reviews_2 to\n",
      "[nltk_data]    |     C:\\Users\\Mecaps Lenovo\n",
      "[nltk_data]    |     L470\\AppData\\Roaming\\nltk_data...\n",
      "[nltk_data]    |   Package product_reviews_2 is already up-to-date!\n",
      "[nltk_data]    | Downloading package propbank to C:\\Users\\Mecaps\n",
      "[nltk_data]    |     Lenovo L470\\AppData\\Roaming\\nltk_data...\n",
      "[nltk_data]    |   Package propbank is already up-to-date!\n",
      "[nltk_data]    | Downloading package pros_cons to C:\\Users\\Mecaps\n",
      "[nltk_data]    |     Lenovo L470\\AppData\\Roaming\\nltk_data...\n",
      "[nltk_data]    |   Package pros_cons is already up-to-date!\n",
      "[nltk_data]    | Downloading package ptb to C:\\Users\\Mecaps Lenovo\n",
      "[nltk_data]    |     L470\\AppData\\Roaming\\nltk_data...\n",
      "[nltk_data]    |   Package ptb is already up-to-date!\n",
      "[nltk_data]    | Downloading package punkt to C:\\Users\\Mecaps Lenovo\n",
      "[nltk_data]    |     L470\\AppData\\Roaming\\nltk_data...\n",
      "[nltk_data]    |   Package punkt is already up-to-date!\n",
      "[nltk_data]    | Downloading package qc to C:\\Users\\Mecaps Lenovo\n",
      "[nltk_data]    |     L470\\AppData\\Roaming\\nltk_data...\n",
      "[nltk_data]    |   Package qc is already up-to-date!\n",
      "[nltk_data]    | Downloading package reuters to C:\\Users\\Mecaps Lenovo\n",
      "[nltk_data]    |     L470\\AppData\\Roaming\\nltk_data...\n",
      "[nltk_data]    |   Package reuters is already up-to-date!\n",
      "[nltk_data]    | Downloading package rslp to C:\\Users\\Mecaps Lenovo\n",
      "[nltk_data]    |     L470\\AppData\\Roaming\\nltk_data...\n",
      "[nltk_data]    |   Package rslp is already up-to-date!\n",
      "[nltk_data]    | Downloading package rte to C:\\Users\\Mecaps Lenovo\n",
      "[nltk_data]    |     L470\\AppData\\Roaming\\nltk_data...\n",
      "[nltk_data]    |   Package rte is already up-to-date!\n",
      "[nltk_data]    | Downloading package sample_grammars to\n",
      "[nltk_data]    |     C:\\Users\\Mecaps Lenovo\n",
      "[nltk_data]    |     L470\\AppData\\Roaming\\nltk_data...\n",
      "[nltk_data]    |   Package sample_grammars is already up-to-date!\n",
      "[nltk_data]    | Downloading package semcor to C:\\Users\\Mecaps Lenovo\n",
      "[nltk_data]    |     L470\\AppData\\Roaming\\nltk_data...\n",
      "[nltk_data]    |   Package semcor is already up-to-date!\n",
      "[nltk_data]    | Downloading package senseval to C:\\Users\\Mecaps\n",
      "[nltk_data]    |     Lenovo L470\\AppData\\Roaming\\nltk_data...\n",
      "[nltk_data]    |   Package senseval is already up-to-date!\n",
      "[nltk_data]    | Downloading package sentence_polarity to\n",
      "[nltk_data]    |     C:\\Users\\Mecaps Lenovo\n",
      "[nltk_data]    |     L470\\AppData\\Roaming\\nltk_data...\n",
      "[nltk_data]    |   Package sentence_polarity is already up-to-date!\n",
      "[nltk_data]    | Downloading package sentiwordnet to C:\\Users\\Mecaps\n",
      "[nltk_data]    |     Lenovo L470\\AppData\\Roaming\\nltk_data...\n",
      "[nltk_data]    |   Package sentiwordnet is already up-to-date!\n",
      "[nltk_data]    | Downloading package shakespeare to C:\\Users\\Mecaps\n",
      "[nltk_data]    |     Lenovo L470\\AppData\\Roaming\\nltk_data...\n",
      "[nltk_data]    |   Package shakespeare is already up-to-date!\n",
      "[nltk_data]    | Downloading package sinica_treebank to\n",
      "[nltk_data]    |     C:\\Users\\Mecaps Lenovo\n",
      "[nltk_data]    |     L470\\AppData\\Roaming\\nltk_data...\n",
      "[nltk_data]    |   Package sinica_treebank is already up-to-date!\n",
      "[nltk_data]    | Downloading package smultron to C:\\Users\\Mecaps\n",
      "[nltk_data]    |     Lenovo L470\\AppData\\Roaming\\nltk_data...\n",
      "[nltk_data]    |   Package smultron is already up-to-date!\n",
      "[nltk_data]    | Downloading package snowball_data to C:\\Users\\Mecaps\n",
      "[nltk_data]    |     Lenovo L470\\AppData\\Roaming\\nltk_data...\n",
      "[nltk_data]    |   Package snowball_data is already up-to-date!\n",
      "[nltk_data]    | Downloading package spanish_grammars to\n",
      "[nltk_data]    |     C:\\Users\\Mecaps Lenovo\n",
      "[nltk_data]    |     L470\\AppData\\Roaming\\nltk_data...\n",
      "[nltk_data]    |   Package spanish_grammars is already up-to-date!\n",
      "[nltk_data]    | Downloading package state_union to C:\\Users\\Mecaps\n",
      "[nltk_data]    |     Lenovo L470\\AppData\\Roaming\\nltk_data...\n",
      "[nltk_data]    |   Package state_union is already up-to-date!\n",
      "[nltk_data]    | Downloading package stopwords to C:\\Users\\Mecaps\n",
      "[nltk_data]    |     Lenovo L470\\AppData\\Roaming\\nltk_data...\n",
      "[nltk_data]    |   Package stopwords is already up-to-date!\n",
      "[nltk_data]    | Downloading package subjectivity to C:\\Users\\Mecaps\n",
      "[nltk_data]    |     Lenovo L470\\AppData\\Roaming\\nltk_data...\n",
      "[nltk_data]    |   Package subjectivity is already up-to-date!\n",
      "[nltk_data]    | Downloading package swadesh to C:\\Users\\Mecaps Lenovo\n",
      "[nltk_data]    |     L470\\AppData\\Roaming\\nltk_data...\n",
      "[nltk_data]    |   Package swadesh is already up-to-date!\n",
      "[nltk_data]    | Downloading package switchboard to C:\\Users\\Mecaps\n",
      "[nltk_data]    |     Lenovo L470\\AppData\\Roaming\\nltk_data...\n",
      "[nltk_data]    |   Package switchboard is already up-to-date!\n",
      "[nltk_data]    | Downloading package tagsets to C:\\Users\\Mecaps Lenovo\n",
      "[nltk_data]    |     L470\\AppData\\Roaming\\nltk_data...\n",
      "[nltk_data]    |   Package tagsets is already up-to-date!\n",
      "[nltk_data]    | Downloading package timit to C:\\Users\\Mecaps Lenovo\n",
      "[nltk_data]    |     L470\\AppData\\Roaming\\nltk_data...\n",
      "[nltk_data]    |   Package timit is already up-to-date!\n",
      "[nltk_data]    | Downloading package toolbox to C:\\Users\\Mecaps Lenovo\n",
      "[nltk_data]    |     L470\\AppData\\Roaming\\nltk_data...\n",
      "[nltk_data]    |   Package toolbox is already up-to-date!\n",
      "[nltk_data]    | Downloading package treebank to C:\\Users\\Mecaps\n",
      "[nltk_data]    |     Lenovo L470\\AppData\\Roaming\\nltk_data...\n",
      "[nltk_data]    |   Package treebank is already up-to-date!\n",
      "[nltk_data]    | Downloading package twitter_samples to\n",
      "[nltk_data]    |     C:\\Users\\Mecaps Lenovo\n",
      "[nltk_data]    |     L470\\AppData\\Roaming\\nltk_data...\n",
      "[nltk_data]    |   Package twitter_samples is already up-to-date!\n",
      "[nltk_data]    | Downloading package udhr to C:\\Users\\Mecaps Lenovo\n",
      "[nltk_data]    |     L470\\AppData\\Roaming\\nltk_data...\n",
      "[nltk_data]    |   Package udhr is already up-to-date!\n",
      "[nltk_data]    | Downloading package udhr2 to C:\\Users\\Mecaps Lenovo\n",
      "[nltk_data]    |     L470\\AppData\\Roaming\\nltk_data...\n",
      "[nltk_data]    |   Package udhr2 is already up-to-date!\n",
      "[nltk_data]    | Downloading package unicode_samples to\n",
      "[nltk_data]    |     C:\\Users\\Mecaps Lenovo\n",
      "[nltk_data]    |     L470\\AppData\\Roaming\\nltk_data...\n",
      "[nltk_data]    |   Package unicode_samples is already up-to-date!\n",
      "[nltk_data]    | Downloading package universal_tagset to\n",
      "[nltk_data]    |     C:\\Users\\Mecaps Lenovo\n",
      "[nltk_data]    |     L470\\AppData\\Roaming\\nltk_data...\n",
      "[nltk_data]    |   Package universal_tagset is already up-to-date!\n",
      "[nltk_data]    | Downloading package universal_treebanks_v20 to\n",
      "[nltk_data]    |     C:\\Users\\Mecaps Lenovo\n",
      "[nltk_data]    |     L470\\AppData\\Roaming\\nltk_data...\n",
      "[nltk_data]    |   Package universal_treebanks_v20 is already up-to-\n",
      "[nltk_data]    |       date!\n",
      "[nltk_data]    | Downloading package vader_lexicon to C:\\Users\\Mecaps\n",
      "[nltk_data]    |     Lenovo L470\\AppData\\Roaming\\nltk_data...\n",
      "[nltk_data]    |   Package vader_lexicon is already up-to-date!\n",
      "[nltk_data]    | Downloading package verbnet to C:\\Users\\Mecaps Lenovo\n",
      "[nltk_data]    |     L470\\AppData\\Roaming\\nltk_data...\n",
      "[nltk_data]    |   Package verbnet is already up-to-date!\n",
      "[nltk_data]    | Downloading package verbnet3 to C:\\Users\\Mecaps\n",
      "[nltk_data]    |     Lenovo L470\\AppData\\Roaming\\nltk_data...\n",
      "[nltk_data]    |   Package verbnet3 is already up-to-date!\n",
      "[nltk_data]    | Downloading package webtext to C:\\Users\\Mecaps Lenovo\n",
      "[nltk_data]    |     L470\\AppData\\Roaming\\nltk_data...\n",
      "[nltk_data]    |   Package webtext is already up-to-date!\n",
      "[nltk_data]    | Downloading package wmt15_eval to C:\\Users\\Mecaps\n",
      "[nltk_data]    |     Lenovo L470\\AppData\\Roaming\\nltk_data...\n",
      "[nltk_data]    |   Package wmt15_eval is already up-to-date!\n",
      "[nltk_data]    | Downloading package word2vec_sample to\n",
      "[nltk_data]    |     C:\\Users\\Mecaps Lenovo\n",
      "[nltk_data]    |     L470\\AppData\\Roaming\\nltk_data...\n",
      "[nltk_data]    |   Package word2vec_sample is already up-to-date!\n",
      "[nltk_data]    | Downloading package wordnet to C:\\Users\\Mecaps Lenovo\n",
      "[nltk_data]    |     L470\\AppData\\Roaming\\nltk_data...\n",
      "[nltk_data]    |   Package wordnet is already up-to-date!\n",
      "[nltk_data]    | Downloading package wordnet2021 to C:\\Users\\Mecaps\n",
      "[nltk_data]    |     Lenovo L470\\AppData\\Roaming\\nltk_data...\n",
      "[nltk_data]    |   Package wordnet2021 is already up-to-date!\n",
      "[nltk_data]    | Downloading package wordnet2022 to C:\\Users\\Mecaps\n",
      "[nltk_data]    |     Lenovo L470\\AppData\\Roaming\\nltk_data...\n",
      "[nltk_data]    |   Package wordnet2022 is already up-to-date!\n",
      "[nltk_data]    | Downloading package wordnet31 to C:\\Users\\Mecaps\n",
      "[nltk_data]    |     Lenovo L470\\AppData\\Roaming\\nltk_data...\n",
      "[nltk_data]    |   Package wordnet31 is already up-to-date!\n",
      "[nltk_data]    | Downloading package wordnet_ic to C:\\Users\\Mecaps\n",
      "[nltk_data]    |     Lenovo L470\\AppData\\Roaming\\nltk_data...\n",
      "[nltk_data]    |   Package wordnet_ic is already up-to-date!\n",
      "[nltk_data]    | Downloading package words to C:\\Users\\Mecaps Lenovo\n",
      "[nltk_data]    |     L470\\AppData\\Roaming\\nltk_data...\n",
      "[nltk_data]    |   Package words is already up-to-date!\n",
      "[nltk_data]    | Downloading package ycoe to C:\\Users\\Mecaps Lenovo\n",
      "[nltk_data]    |     L470\\AppData\\Roaming\\nltk_data...\n",
      "[nltk_data]    |   Package ycoe is already up-to-date!\n",
      "[nltk_data]    | \n",
      "[nltk_data]  Done downloading collection all\n"
     ]
    }
   ],
   "source": [
    "import pandas as pd \n",
    "import numpy as np\n",
    "import matplotlib as plt\n",
    "import nltk\n",
    "from nltk import corpus,tokenize\n",
    "from nltk.corpus import stopwords\n",
    "from nltk.sentiment.vader import SentimentIntensityAnalyzer\n",
    "from nltk.tokenize import word_tokenize\n",
    "from nltk.stem import WordNetLemmatizer\n",
    "nltk.download('all')\n",
    "\n",
    "import re\n",
    "\n"
   ]
  },
  {
   "cell_type": "code",
   "execution_count": 56,
   "id": "ea19174f-edef-4be5-9ed8-ba20bf83d050",
   "metadata": {},
   "outputs": [],
   "source": [
    "sia = SentimentIntensityAnalyzer()"
   ]
  },
  {
   "cell_type": "code",
   "execution_count": 57,
   "id": "28f4c863-6555-43ae-beb5-85f1914bf8be",
   "metadata": {},
   "outputs": [],
   "source": [
    "df= pd.read_csv('amazon_vfl_reviews.csv')"
   ]
  },
  {
   "cell_type": "code",
   "execution_count": 58,
   "id": "d8ef67de-c130-4e1c-97f8-6e2d299cebac",
   "metadata": {},
   "outputs": [
    {
     "data": {
      "text/html": [
       "<div>\n",
       "<style scoped>\n",
       "    .dataframe tbody tr th:only-of-type {\n",
       "        vertical-align: middle;\n",
       "    }\n",
       "\n",
       "    .dataframe tbody tr th {\n",
       "        vertical-align: top;\n",
       "    }\n",
       "\n",
       "    .dataframe thead th {\n",
       "        text-align: right;\n",
       "    }\n",
       "</style>\n",
       "<table border=\"1\" class=\"dataframe\">\n",
       "  <thead>\n",
       "    <tr style=\"text-align: right;\">\n",
       "      <th></th>\n",
       "      <th>asin</th>\n",
       "      <th>name</th>\n",
       "      <th>date</th>\n",
       "      <th>rating</th>\n",
       "      <th>review</th>\n",
       "    </tr>\n",
       "  </thead>\n",
       "  <tbody>\n",
       "    <tr>\n",
       "      <th>0</th>\n",
       "      <td>B07W7CTLD1</td>\n",
       "      <td>Mamaearth-Onion-Growth-Control-Redensyl</td>\n",
       "      <td>2019-09-06</td>\n",
       "      <td>1</td>\n",
       "      <td>I bought this hair oil after viewing so many g...</td>\n",
       "    </tr>\n",
       "    <tr>\n",
       "      <th>1</th>\n",
       "      <td>B07W7CTLD1</td>\n",
       "      <td>Mamaearth-Onion-Growth-Control-Redensyl</td>\n",
       "      <td>2019-08-14</td>\n",
       "      <td>5</td>\n",
       "      <td>Used This Mama Earth Newly Launched Onion Oil ...</td>\n",
       "    </tr>\n",
       "    <tr>\n",
       "      <th>2</th>\n",
       "      <td>B07W7CTLD1</td>\n",
       "      <td>Mamaearth-Onion-Growth-Control-Redensyl</td>\n",
       "      <td>2019-10-19</td>\n",
       "      <td>1</td>\n",
       "      <td>So bad product...My hair falling increase too ...</td>\n",
       "    </tr>\n",
       "    <tr>\n",
       "      <th>3</th>\n",
       "      <td>B07W7CTLD1</td>\n",
       "      <td>Mamaearth-Onion-Growth-Control-Redensyl</td>\n",
       "      <td>2019-09-16</td>\n",
       "      <td>1</td>\n",
       "      <td>Product just smells similar to navarathna hair...</td>\n",
       "    </tr>\n",
       "    <tr>\n",
       "      <th>4</th>\n",
       "      <td>B07W7CTLD1</td>\n",
       "      <td>Mamaearth-Onion-Growth-Control-Redensyl</td>\n",
       "      <td>2019-08-18</td>\n",
       "      <td>5</td>\n",
       "      <td>I have been trying different onion oil for my ...</td>\n",
       "    </tr>\n",
       "  </tbody>\n",
       "</table>\n",
       "</div>"
      ],
      "text/plain": [
       "         asin                                     name        date  rating  \\\n",
       "0  B07W7CTLD1  Mamaearth-Onion-Growth-Control-Redensyl  2019-09-06       1   \n",
       "1  B07W7CTLD1  Mamaearth-Onion-Growth-Control-Redensyl  2019-08-14       5   \n",
       "2  B07W7CTLD1  Mamaearth-Onion-Growth-Control-Redensyl  2019-10-19       1   \n",
       "3  B07W7CTLD1  Mamaearth-Onion-Growth-Control-Redensyl  2019-09-16       1   \n",
       "4  B07W7CTLD1  Mamaearth-Onion-Growth-Control-Redensyl  2019-08-18       5   \n",
       "\n",
       "                                              review  \n",
       "0  I bought this hair oil after viewing so many g...  \n",
       "1  Used This Mama Earth Newly Launched Onion Oil ...  \n",
       "2  So bad product...My hair falling increase too ...  \n",
       "3  Product just smells similar to navarathna hair...  \n",
       "4  I have been trying different onion oil for my ...  "
      ]
     },
     "execution_count": 58,
     "metadata": {},
     "output_type": "execute_result"
    }
   ],
   "source": [
    "df.head()"
   ]
  },
  {
   "cell_type": "code",
   "execution_count": 59,
   "id": "cffe89f6-feda-4933-b9eb-534ab8f09d24",
   "metadata": {},
   "outputs": [
    {
     "data": {
      "text/plain": [
       "(2782, 5)"
      ]
     },
     "execution_count": 59,
     "metadata": {},
     "output_type": "execute_result"
    }
   ],
   "source": [
    "df.shape"
   ]
  },
  {
   "cell_type": "code",
   "execution_count": 60,
   "id": "3bfcb7ad-2eef-4a49-b4e9-4ebbf470a529",
   "metadata": {},
   "outputs": [
    {
     "data": {
      "text/plain": [
       "asin      0\n",
       "name      0\n",
       "date      0\n",
       "rating    0\n",
       "review    6\n",
       "dtype: int64"
      ]
     },
     "execution_count": 60,
     "metadata": {},
     "output_type": "execute_result"
    }
   ],
   "source": [
    "df.isnull().sum()"
   ]
  },
  {
   "cell_type": "code",
   "execution_count": 61,
   "id": "8d3bdfa6-874d-4568-aafa-57230982b0fe",
   "metadata": {},
   "outputs": [],
   "source": [
    "df_cleaned = df.dropna(subset=['review'])\n"
   ]
  },
  {
   "cell_type": "code",
   "execution_count": 62,
   "id": "7a0a8402-7e0e-439d-a503-461bbb596970",
   "metadata": {},
   "outputs": [
    {
     "data": {
      "text/plain": [
       "asin      0\n",
       "name      0\n",
       "date      0\n",
       "rating    0\n",
       "review    0\n",
       "dtype: int64"
      ]
     },
     "execution_count": 62,
     "metadata": {},
     "output_type": "execute_result"
    }
   ],
   "source": [
    "df_cleaned.isnull().sum()"
   ]
  },
  {
   "cell_type": "code",
   "execution_count": 63,
   "id": "123ff208-3ab9-40c4-abd7-df4a507006a7",
   "metadata": {},
   "outputs": [],
   "source": [
    "df_cleaned = df_cleaned.drop(columns=['asin', 'name', 'date'])\n"
   ]
  },
  {
   "cell_type": "code",
   "execution_count": 64,
   "id": "db6e808a-3d89-431a-86c3-4c446112c48c",
   "metadata": {},
   "outputs": [
    {
     "data": {
      "text/html": [
       "<div>\n",
       "<style scoped>\n",
       "    .dataframe tbody tr th:only-of-type {\n",
       "        vertical-align: middle;\n",
       "    }\n",
       "\n",
       "    .dataframe tbody tr th {\n",
       "        vertical-align: top;\n",
       "    }\n",
       "\n",
       "    .dataframe thead th {\n",
       "        text-align: right;\n",
       "    }\n",
       "</style>\n",
       "<table border=\"1\" class=\"dataframe\">\n",
       "  <thead>\n",
       "    <tr style=\"text-align: right;\">\n",
       "      <th></th>\n",
       "      <th>rating</th>\n",
       "      <th>review</th>\n",
       "    </tr>\n",
       "  </thead>\n",
       "  <tbody>\n",
       "    <tr>\n",
       "      <th>0</th>\n",
       "      <td>1</td>\n",
       "      <td>I bought this hair oil after viewing so many g...</td>\n",
       "    </tr>\n",
       "    <tr>\n",
       "      <th>1</th>\n",
       "      <td>5</td>\n",
       "      <td>Used This Mama Earth Newly Launched Onion Oil ...</td>\n",
       "    </tr>\n",
       "    <tr>\n",
       "      <th>2</th>\n",
       "      <td>1</td>\n",
       "      <td>So bad product...My hair falling increase too ...</td>\n",
       "    </tr>\n",
       "    <tr>\n",
       "      <th>3</th>\n",
       "      <td>1</td>\n",
       "      <td>Product just smells similar to navarathna hair...</td>\n",
       "    </tr>\n",
       "    <tr>\n",
       "      <th>4</th>\n",
       "      <td>5</td>\n",
       "      <td>I have been trying different onion oil for my ...</td>\n",
       "    </tr>\n",
       "  </tbody>\n",
       "</table>\n",
       "</div>"
      ],
      "text/plain": [
       "   rating                                             review\n",
       "0       1  I bought this hair oil after viewing so many g...\n",
       "1       5  Used This Mama Earth Newly Launched Onion Oil ...\n",
       "2       1  So bad product...My hair falling increase too ...\n",
       "3       1  Product just smells similar to navarathna hair...\n",
       "4       5  I have been trying different onion oil for my ..."
      ]
     },
     "execution_count": 64,
     "metadata": {},
     "output_type": "execute_result"
    }
   ],
   "source": [
    "df_cleaned.head()"
   ]
  },
  {
   "cell_type": "code",
   "execution_count": 65,
   "id": "e563205d-5a1c-4c01-8503-25d2b6449700",
   "metadata": {},
   "outputs": [
    {
     "data": {
      "text/plain": [
       "{'neg': 0.24, 'neu': 0.617, 'pos': 0.144, 'compound': -0.4224}"
      ]
     },
     "execution_count": 65,
     "metadata": {},
     "output_type": "execute_result"
    }
   ],
   "source": [
    "sia.polarity_scores(df_cleaned['review'][2])\n"
   ]
  },
  {
   "cell_type": "code",
   "execution_count": 66,
   "id": "2e1b09e5-6e2a-4195-8292-4fa541234c31",
   "metadata": {},
   "outputs": [
    {
     "data": {
      "text/plain": [
       "rating\n",
       "5    1442\n",
       "1     546\n",
       "4     460\n",
       "3     198\n",
       "2     130\n",
       "Name: count, dtype: int64"
      ]
     },
     "execution_count": 66,
     "metadata": {},
     "output_type": "execute_result"
    }
   ],
   "source": [
    "df_cleaned['rating'].value_counts()"
   ]
  },
  {
   "cell_type": "code",
   "execution_count": 67,
   "id": "4146f377-c356-42d4-a772-75fadca55373",
   "metadata": {},
   "outputs": [
    {
     "data": {
      "text/plain": [
       "rating    0\n",
       "review    0\n",
       "dtype: int64"
      ]
     },
     "execution_count": 67,
     "metadata": {},
     "output_type": "execute_result"
    }
   ],
   "source": [
    "df_cleaned.isnull().sum()"
   ]
  },
  {
   "cell_type": "code",
   "execution_count": 68,
   "id": "66d165b5-50a3-4001-9e2e-ab72532a429b",
   "metadata": {},
   "outputs": [
    {
     "data": {
      "text/html": [
       "<div>\n",
       "<style scoped>\n",
       "    .dataframe tbody tr th:only-of-type {\n",
       "        vertical-align: middle;\n",
       "    }\n",
       "\n",
       "    .dataframe tbody tr th {\n",
       "        vertical-align: top;\n",
       "    }\n",
       "\n",
       "    .dataframe thead th {\n",
       "        text-align: right;\n",
       "    }\n",
       "</style>\n",
       "<table border=\"1\" class=\"dataframe\">\n",
       "  <thead>\n",
       "    <tr style=\"text-align: right;\">\n",
       "      <th></th>\n",
       "      <th>rating</th>\n",
       "      <th>review</th>\n",
       "      <th>scores</th>\n",
       "    </tr>\n",
       "  </thead>\n",
       "  <tbody>\n",
       "    <tr>\n",
       "      <th>0</th>\n",
       "      <td>1</td>\n",
       "      <td>I bought this hair oil after viewing so many g...</td>\n",
       "      <td>{'neg': 0.074, 'neu': 0.741, 'pos': 0.186, 'co...</td>\n",
       "    </tr>\n",
       "    <tr>\n",
       "      <th>1</th>\n",
       "      <td>5</td>\n",
       "      <td>Used This Mama Earth Newly Launched Onion Oil ...</td>\n",
       "      <td>{'neg': 0.074, 'neu': 0.734, 'pos': 0.192, 'co...</td>\n",
       "    </tr>\n",
       "    <tr>\n",
       "      <th>2</th>\n",
       "      <td>1</td>\n",
       "      <td>So bad product...My hair falling increase too ...</td>\n",
       "      <td>{'neg': 0.24, 'neu': 0.617, 'pos': 0.144, 'com...</td>\n",
       "    </tr>\n",
       "    <tr>\n",
       "      <th>3</th>\n",
       "      <td>1</td>\n",
       "      <td>Product just smells similar to navarathna hair...</td>\n",
       "      <td>{'neg': 0.227, 'neu': 0.696, 'pos': 0.078, 'co...</td>\n",
       "    </tr>\n",
       "    <tr>\n",
       "      <th>4</th>\n",
       "      <td>5</td>\n",
       "      <td>I have been trying different onion oil for my ...</td>\n",
       "      <td>{'neg': 0.035, 'neu': 0.795, 'pos': 0.17, 'com...</td>\n",
       "    </tr>\n",
       "  </tbody>\n",
       "</table>\n",
       "</div>"
      ],
      "text/plain": [
       "   rating                                             review  \\\n",
       "0       1  I bought this hair oil after viewing so many g...   \n",
       "1       5  Used This Mama Earth Newly Launched Onion Oil ...   \n",
       "2       1  So bad product...My hair falling increase too ...   \n",
       "3       1  Product just smells similar to navarathna hair...   \n",
       "4       5  I have been trying different onion oil for my ...   \n",
       "\n",
       "                                              scores  \n",
       "0  {'neg': 0.074, 'neu': 0.741, 'pos': 0.186, 'co...  \n",
       "1  {'neg': 0.074, 'neu': 0.734, 'pos': 0.192, 'co...  \n",
       "2  {'neg': 0.24, 'neu': 0.617, 'pos': 0.144, 'com...  \n",
       "3  {'neg': 0.227, 'neu': 0.696, 'pos': 0.078, 'co...  \n",
       "4  {'neg': 0.035, 'neu': 0.795, 'pos': 0.17, 'com...  "
      ]
     },
     "execution_count": 68,
     "metadata": {},
     "output_type": "execute_result"
    }
   ],
   "source": [
    "df_cleaned['scores']=df_cleaned['review'].apply(lambda review : sia.polarity_scores(review))\n",
    "df_cleaned.head()\n"
   ]
  },
  {
   "cell_type": "code",
   "execution_count": 69,
   "id": "ac8cfea3-d06d-4fe0-929f-173fc7d503d4",
   "metadata": {},
   "outputs": [
    {
     "data": {
      "text/html": [
       "<div>\n",
       "<style scoped>\n",
       "    .dataframe tbody tr th:only-of-type {\n",
       "        vertical-align: middle;\n",
       "    }\n",
       "\n",
       "    .dataframe tbody tr th {\n",
       "        vertical-align: top;\n",
       "    }\n",
       "\n",
       "    .dataframe thead th {\n",
       "        text-align: right;\n",
       "    }\n",
       "</style>\n",
       "<table border=\"1\" class=\"dataframe\">\n",
       "  <thead>\n",
       "    <tr style=\"text-align: right;\">\n",
       "      <th></th>\n",
       "      <th>rating</th>\n",
       "      <th>review</th>\n",
       "      <th>scores</th>\n",
       "      <th>compound</th>\n",
       "    </tr>\n",
       "  </thead>\n",
       "  <tbody>\n",
       "    <tr>\n",
       "      <th>0</th>\n",
       "      <td>1</td>\n",
       "      <td>I bought this hair oil after viewing so many g...</td>\n",
       "      <td>{'neg': 0.074, 'neu': 0.741, 'pos': 0.186, 'co...</td>\n",
       "      <td>0.9102</td>\n",
       "    </tr>\n",
       "    <tr>\n",
       "      <th>1</th>\n",
       "      <td>5</td>\n",
       "      <td>Used This Mama Earth Newly Launched Onion Oil ...</td>\n",
       "      <td>{'neg': 0.074, 'neu': 0.734, 'pos': 0.192, 'co...</td>\n",
       "      <td>0.8856</td>\n",
       "    </tr>\n",
       "    <tr>\n",
       "      <th>2</th>\n",
       "      <td>1</td>\n",
       "      <td>So bad product...My hair falling increase too ...</td>\n",
       "      <td>{'neg': 0.24, 'neu': 0.617, 'pos': 0.144, 'com...</td>\n",
       "      <td>-0.4224</td>\n",
       "    </tr>\n",
       "    <tr>\n",
       "      <th>3</th>\n",
       "      <td>1</td>\n",
       "      <td>Product just smells similar to navarathna hair...</td>\n",
       "      <td>{'neg': 0.227, 'neu': 0.696, 'pos': 0.078, 'co...</td>\n",
       "      <td>-0.9577</td>\n",
       "    </tr>\n",
       "    <tr>\n",
       "      <th>4</th>\n",
       "      <td>5</td>\n",
       "      <td>I have been trying different onion oil for my ...</td>\n",
       "      <td>{'neg': 0.035, 'neu': 0.795, 'pos': 0.17, 'com...</td>\n",
       "      <td>0.8597</td>\n",
       "    </tr>\n",
       "  </tbody>\n",
       "</table>\n",
       "</div>"
      ],
      "text/plain": [
       "   rating                                             review  \\\n",
       "0       1  I bought this hair oil after viewing so many g...   \n",
       "1       5  Used This Mama Earth Newly Launched Onion Oil ...   \n",
       "2       1  So bad product...My hair falling increase too ...   \n",
       "3       1  Product just smells similar to navarathna hair...   \n",
       "4       5  I have been trying different onion oil for my ...   \n",
       "\n",
       "                                              scores  compound  \n",
       "0  {'neg': 0.074, 'neu': 0.741, 'pos': 0.186, 'co...    0.9102  \n",
       "1  {'neg': 0.074, 'neu': 0.734, 'pos': 0.192, 'co...    0.8856  \n",
       "2  {'neg': 0.24, 'neu': 0.617, 'pos': 0.144, 'com...   -0.4224  \n",
       "3  {'neg': 0.227, 'neu': 0.696, 'pos': 0.078, 'co...   -0.9577  \n",
       "4  {'neg': 0.035, 'neu': 0.795, 'pos': 0.17, 'com...    0.8597  "
      ]
     },
     "execution_count": 69,
     "metadata": {},
     "output_type": "execute_result"
    }
   ],
   "source": [
    "df_cleaned['compound']=df_cleaned['scores'].apply(lambda score_dict : score_dict['compound'])\n",
    "df_cleaned.head()"
   ]
  },
  {
   "cell_type": "code",
   "execution_count": 70,
   "id": "d1ff05eb-8107-42d4-89a1-735d990c0e06",
   "metadata": {},
   "outputs": [
    {
     "data": {
      "text/html": [
       "<div>\n",
       "<style scoped>\n",
       "    .dataframe tbody tr th:only-of-type {\n",
       "        vertical-align: middle;\n",
       "    }\n",
       "\n",
       "    .dataframe tbody tr th {\n",
       "        vertical-align: top;\n",
       "    }\n",
       "\n",
       "    .dataframe thead th {\n",
       "        text-align: right;\n",
       "    }\n",
       "</style>\n",
       "<table border=\"1\" class=\"dataframe\">\n",
       "  <thead>\n",
       "    <tr style=\"text-align: right;\">\n",
       "      <th></th>\n",
       "      <th>rating</th>\n",
       "      <th>review</th>\n",
       "      <th>scores</th>\n",
       "      <th>compound</th>\n",
       "      <th>binary_rating</th>\n",
       "    </tr>\n",
       "  </thead>\n",
       "  <tbody>\n",
       "    <tr>\n",
       "      <th>0</th>\n",
       "      <td>1</td>\n",
       "      <td>I bought this hair oil after viewing so many g...</td>\n",
       "      <td>{'neg': 0.074, 'neu': 0.741, 'pos': 0.186, 'co...</td>\n",
       "      <td>0.9102</td>\n",
       "      <td>neg</td>\n",
       "    </tr>\n",
       "    <tr>\n",
       "      <th>1</th>\n",
       "      <td>5</td>\n",
       "      <td>Used This Mama Earth Newly Launched Onion Oil ...</td>\n",
       "      <td>{'neg': 0.074, 'neu': 0.734, 'pos': 0.192, 'co...</td>\n",
       "      <td>0.8856</td>\n",
       "      <td>pos</td>\n",
       "    </tr>\n",
       "    <tr>\n",
       "      <th>2</th>\n",
       "      <td>1</td>\n",
       "      <td>So bad product...My hair falling increase too ...</td>\n",
       "      <td>{'neg': 0.24, 'neu': 0.617, 'pos': 0.144, 'com...</td>\n",
       "      <td>-0.4224</td>\n",
       "      <td>neg</td>\n",
       "    </tr>\n",
       "    <tr>\n",
       "      <th>3</th>\n",
       "      <td>1</td>\n",
       "      <td>Product just smells similar to navarathna hair...</td>\n",
       "      <td>{'neg': 0.227, 'neu': 0.696, 'pos': 0.078, 'co...</td>\n",
       "      <td>-0.9577</td>\n",
       "      <td>neg</td>\n",
       "    </tr>\n",
       "    <tr>\n",
       "      <th>4</th>\n",
       "      <td>5</td>\n",
       "      <td>I have been trying different onion oil for my ...</td>\n",
       "      <td>{'neg': 0.035, 'neu': 0.795, 'pos': 0.17, 'com...</td>\n",
       "      <td>0.8597</td>\n",
       "      <td>pos</td>\n",
       "    </tr>\n",
       "  </tbody>\n",
       "</table>\n",
       "</div>"
      ],
      "text/plain": [
       "   rating                                             review  \\\n",
       "0       1  I bought this hair oil after viewing so many g...   \n",
       "1       5  Used This Mama Earth Newly Launched Onion Oil ...   \n",
       "2       1  So bad product...My hair falling increase too ...   \n",
       "3       1  Product just smells similar to navarathna hair...   \n",
       "4       5  I have been trying different onion oil for my ...   \n",
       "\n",
       "                                              scores  compound binary_rating  \n",
       "0  {'neg': 0.074, 'neu': 0.741, 'pos': 0.186, 'co...    0.9102           neg  \n",
       "1  {'neg': 0.074, 'neu': 0.734, 'pos': 0.192, 'co...    0.8856           pos  \n",
       "2  {'neg': 0.24, 'neu': 0.617, 'pos': 0.144, 'com...   -0.4224           neg  \n",
       "3  {'neg': 0.227, 'neu': 0.696, 'pos': 0.078, 'co...   -0.9577           neg  \n",
       "4  {'neg': 0.035, 'neu': 0.795, 'pos': 0.17, 'com...    0.8597           pos  "
      ]
     },
     "execution_count": 70,
     "metadata": {},
     "output_type": "execute_result"
    }
   ],
   "source": [
    "def binary_rating(rating):\n",
    "    if rating > 2:\n",
    "        return 'pos'\n",
    "    else:\n",
    "        return 'neg'\n",
    "        \n",
    "df_cleaned['binary_rating'] = df_cleaned['rating'].apply(binary_rating)\n",
    "df_cleaned.head()"
   ]
  },
  {
   "cell_type": "code",
   "execution_count": 71,
   "id": "85437a25-70e3-4946-9b96-98a062472673",
   "metadata": {},
   "outputs": [
    {
     "data": {
      "text/html": [
       "<div>\n",
       "<style scoped>\n",
       "    .dataframe tbody tr th:only-of-type {\n",
       "        vertical-align: middle;\n",
       "    }\n",
       "\n",
       "    .dataframe tbody tr th {\n",
       "        vertical-align: top;\n",
       "    }\n",
       "\n",
       "    .dataframe thead th {\n",
       "        text-align: right;\n",
       "    }\n",
       "</style>\n",
       "<table border=\"1\" class=\"dataframe\">\n",
       "  <thead>\n",
       "    <tr style=\"text-align: right;\">\n",
       "      <th></th>\n",
       "      <th>rating</th>\n",
       "      <th>review</th>\n",
       "      <th>scores</th>\n",
       "      <th>compound</th>\n",
       "      <th>binary_rating</th>\n",
       "      <th>comp_score</th>\n",
       "    </tr>\n",
       "  </thead>\n",
       "  <tbody>\n",
       "    <tr>\n",
       "      <th>0</th>\n",
       "      <td>1</td>\n",
       "      <td>I bought this hair oil after viewing so many g...</td>\n",
       "      <td>{'neg': 0.074, 'neu': 0.741, 'pos': 0.186, 'co...</td>\n",
       "      <td>0.9102</td>\n",
       "      <td>neg</td>\n",
       "      <td>pos</td>\n",
       "    </tr>\n",
       "    <tr>\n",
       "      <th>1</th>\n",
       "      <td>5</td>\n",
       "      <td>Used This Mama Earth Newly Launched Onion Oil ...</td>\n",
       "      <td>{'neg': 0.074, 'neu': 0.734, 'pos': 0.192, 'co...</td>\n",
       "      <td>0.8856</td>\n",
       "      <td>pos</td>\n",
       "      <td>pos</td>\n",
       "    </tr>\n",
       "    <tr>\n",
       "      <th>2</th>\n",
       "      <td>1</td>\n",
       "      <td>So bad product...My hair falling increase too ...</td>\n",
       "      <td>{'neg': 0.24, 'neu': 0.617, 'pos': 0.144, 'com...</td>\n",
       "      <td>-0.4224</td>\n",
       "      <td>neg</td>\n",
       "      <td>neg</td>\n",
       "    </tr>\n",
       "    <tr>\n",
       "      <th>3</th>\n",
       "      <td>1</td>\n",
       "      <td>Product just smells similar to navarathna hair...</td>\n",
       "      <td>{'neg': 0.227, 'neu': 0.696, 'pos': 0.078, 'co...</td>\n",
       "      <td>-0.9577</td>\n",
       "      <td>neg</td>\n",
       "      <td>neg</td>\n",
       "    </tr>\n",
       "    <tr>\n",
       "      <th>4</th>\n",
       "      <td>5</td>\n",
       "      <td>I have been trying different onion oil for my ...</td>\n",
       "      <td>{'neg': 0.035, 'neu': 0.795, 'pos': 0.17, 'com...</td>\n",
       "      <td>0.8597</td>\n",
       "      <td>pos</td>\n",
       "      <td>pos</td>\n",
       "    </tr>\n",
       "  </tbody>\n",
       "</table>\n",
       "</div>"
      ],
      "text/plain": [
       "   rating                                             review  \\\n",
       "0       1  I bought this hair oil after viewing so many g...   \n",
       "1       5  Used This Mama Earth Newly Launched Onion Oil ...   \n",
       "2       1  So bad product...My hair falling increase too ...   \n",
       "3       1  Product just smells similar to navarathna hair...   \n",
       "4       5  I have been trying different onion oil for my ...   \n",
       "\n",
       "                                              scores  compound binary_rating  \\\n",
       "0  {'neg': 0.074, 'neu': 0.741, 'pos': 0.186, 'co...    0.9102           neg   \n",
       "1  {'neg': 0.074, 'neu': 0.734, 'pos': 0.192, 'co...    0.8856           pos   \n",
       "2  {'neg': 0.24, 'neu': 0.617, 'pos': 0.144, 'com...   -0.4224           neg   \n",
       "3  {'neg': 0.227, 'neu': 0.696, 'pos': 0.078, 'co...   -0.9577           neg   \n",
       "4  {'neg': 0.035, 'neu': 0.795, 'pos': 0.17, 'com...    0.8597           pos   \n",
       "\n",
       "  comp_score  \n",
       "0        pos  \n",
       "1        pos  \n",
       "2        neg  \n",
       "3        neg  \n",
       "4        pos  "
      ]
     },
     "execution_count": 71,
     "metadata": {},
     "output_type": "execute_result"
    }
   ],
   "source": [
    "df_cleaned['comp_score'] = df_cleaned['compound'].apply(lambda c : 'pos' if c>0 else 'neg')\n",
    "df_cleaned.head()"
   ]
  },
  {
   "cell_type": "code",
   "execution_count": 72,
   "id": "6487bab0-8e50-43b9-a99d-4304e26bfcab",
   "metadata": {},
   "outputs": [],
   "source": [
    "from sklearn.metrics import confusion_matrix, accuracy_score, classification_report\n"
   ]
  },
  {
   "cell_type": "code",
   "execution_count": 73,
   "id": "af18b81e-07bf-4ac0-9429-f2e0eb7eae76",
   "metadata": {},
   "outputs": [
    {
     "name": "stdout",
     "output_type": "stream",
     "text": [
      "[[ 444  232]\n",
      " [ 308 1792]]\n"
     ]
    }
   ],
   "source": [
    "print(confusion_matrix(df_cleaned['binary_rating'],df_cleaned['comp_score']))"
   ]
  },
  {
   "cell_type": "code",
   "execution_count": 74,
   "id": "91747827-a8bc-477e-8086-6c55918bfcca",
   "metadata": {},
   "outputs": [
    {
     "name": "stdout",
     "output_type": "stream",
     "text": [
      "              precision    recall  f1-score   support\n",
      "\n",
      "         neg       0.59      0.66      0.62       676\n",
      "         pos       0.89      0.85      0.87      2100\n",
      "\n",
      "    accuracy                           0.81      2776\n",
      "   macro avg       0.74      0.76      0.75      2776\n",
      "weighted avg       0.81      0.81      0.81      2776\n",
      "\n"
     ]
    }
   ],
   "source": [
    "print(classification_report(df_cleaned['binary_rating'],df_cleaned['comp_score']))"
   ]
  },
  {
   "cell_type": "code",
   "execution_count": 75,
   "id": "7cf17901-b59d-4b58-8fdd-8a0fee74c37c",
   "metadata": {},
   "outputs": [
    {
     "name": "stdout",
     "output_type": "stream",
     "text": [
      "0.8054755043227666\n"
     ]
    }
   ],
   "source": [
    "print(accuracy_score(df_cleaned['binary_rating'],df_cleaned['comp_score']))"
   ]
  },
  {
   "cell_type": "code",
   "execution_count": 76,
   "id": "1b3ae555-5a5f-4b70-b18d-0a526d9674f8",
   "metadata": {},
   "outputs": [
    {
     "name": "stderr",
     "output_type": "stream",
     "text": [
      "100%|███████████████████████████████████████████████████████████████████████████| 2776/2776 [00:00<00:00, 24851.47it/s]"
     ]
    },
    {
     "name": "stdout",
     "output_type": "stream",
     "text": [
      "used this mama earth newly launched onion oil twice and i must say im already impressed by the results it prevents hair loss helps control premature greying dryness dandruff scalp eruptions and many other hair problems after its regular use to avoid dry and frizzy hair make sure that you use this oil to your hairs twice a week oiling provides your scalp with essential nutrients and also strengthens the hair roots mamaearth onion oil works best for your hair during all the seasons\n"
     ]
    },
    {
     "name": "stderr",
     "output_type": "stream",
     "text": [
      "\n"
     ]
    }
   ],
   "source": [
    "from tqdm import tqdm\n",
    "processed_reviews=[]\n",
    "for text in tqdm(df_cleaned['review'].values):\n",
    "    text = re.sub('[^a-zA-Z]', ' ', text)  \n",
    "    text = text.lower()\n",
    "    text = text.split()\n",
    "    processed_reviews.append(' '.join(text))\n",
    "\n",
    "print(processed_reviews[1])"
   ]
  },
  {
   "cell_type": "code",
   "execution_count": 77,
   "id": "997482d3-7c47-4941-b0bf-4cd58b8c0987",
   "metadata": {},
   "outputs": [],
   "source": [
    "from sklearn.feature_extraction.text import TfidfVectorizer\n",
    "tfidf=TfidfVectorizer()"
   ]
  },
  {
   "cell_type": "code",
   "execution_count": 78,
   "id": "5035f6ef-f38e-4918-b617-611f87043f3a",
   "metadata": {},
   "outputs": [
    {
     "data": {
      "text/plain": [
       "(2776, 4599)"
      ]
     },
     "execution_count": 78,
     "metadata": {},
     "output_type": "execute_result"
    }
   ],
   "source": [
    "x=tfidf.fit_transform(processed_reviews).toarray()\n",
    "pd.DataFrame(x).shape"
   ]
  },
  {
   "cell_type": "code",
   "execution_count": 79,
   "id": "71d1c051-d173-45c6-b39d-4bb7aee86aa9",
   "metadata": {},
   "outputs": [
    {
     "data": {
      "text/html": [
       "<div>\n",
       "<style scoped>\n",
       "    .dataframe tbody tr th:only-of-type {\n",
       "        vertical-align: middle;\n",
       "    }\n",
       "\n",
       "    .dataframe tbody tr th {\n",
       "        vertical-align: top;\n",
       "    }\n",
       "\n",
       "    .dataframe thead th {\n",
       "        text-align: right;\n",
       "    }\n",
       "</style>\n",
       "<table border=\"1\" class=\"dataframe\">\n",
       "  <thead>\n",
       "    <tr style=\"text-align: right;\">\n",
       "      <th></th>\n",
       "      <th>rating</th>\n",
       "      <th>review</th>\n",
       "      <th>scores</th>\n",
       "      <th>compound</th>\n",
       "      <th>binary_rating</th>\n",
       "      <th>comp_score</th>\n",
       "    </tr>\n",
       "  </thead>\n",
       "  <tbody>\n",
       "    <tr>\n",
       "      <th>0</th>\n",
       "      <td>1</td>\n",
       "      <td>I bought this hair oil after viewing so many g...</td>\n",
       "      <td>{'neg': 0.074, 'neu': 0.741, 'pos': 0.186, 'co...</td>\n",
       "      <td>0.9102</td>\n",
       "      <td>neg</td>\n",
       "      <td>pos</td>\n",
       "    </tr>\n",
       "    <tr>\n",
       "      <th>1</th>\n",
       "      <td>5</td>\n",
       "      <td>Used This Mama Earth Newly Launched Onion Oil ...</td>\n",
       "      <td>{'neg': 0.074, 'neu': 0.734, 'pos': 0.192, 'co...</td>\n",
       "      <td>0.8856</td>\n",
       "      <td>pos</td>\n",
       "      <td>pos</td>\n",
       "    </tr>\n",
       "    <tr>\n",
       "      <th>2</th>\n",
       "      <td>1</td>\n",
       "      <td>So bad product...My hair falling increase too ...</td>\n",
       "      <td>{'neg': 0.24, 'neu': 0.617, 'pos': 0.144, 'com...</td>\n",
       "      <td>-0.4224</td>\n",
       "      <td>neg</td>\n",
       "      <td>neg</td>\n",
       "    </tr>\n",
       "    <tr>\n",
       "      <th>3</th>\n",
       "      <td>1</td>\n",
       "      <td>Product just smells similar to navarathna hair...</td>\n",
       "      <td>{'neg': 0.227, 'neu': 0.696, 'pos': 0.078, 'co...</td>\n",
       "      <td>-0.9577</td>\n",
       "      <td>neg</td>\n",
       "      <td>neg</td>\n",
       "    </tr>\n",
       "    <tr>\n",
       "      <th>4</th>\n",
       "      <td>5</td>\n",
       "      <td>I have been trying different onion oil for my ...</td>\n",
       "      <td>{'neg': 0.035, 'neu': 0.795, 'pos': 0.17, 'com...</td>\n",
       "      <td>0.8597</td>\n",
       "      <td>pos</td>\n",
       "      <td>pos</td>\n",
       "    </tr>\n",
       "    <tr>\n",
       "      <th>...</th>\n",
       "      <td>...</td>\n",
       "      <td>...</td>\n",
       "      <td>...</td>\n",
       "      <td>...</td>\n",
       "      <td>...</td>\n",
       "      <td>...</td>\n",
       "    </tr>\n",
       "    <tr>\n",
       "      <th>2777</th>\n",
       "      <td>5</td>\n",
       "      <td>Long lasting freshness throughout the day.</td>\n",
       "      <td>{'neg': 0.0, 'neu': 1.0, 'pos': 0.0, 'compound...</td>\n",
       "      <td>0.0000</td>\n",
       "      <td>pos</td>\n",
       "      <td>neg</td>\n",
       "    </tr>\n",
       "    <tr>\n",
       "      <th>2778</th>\n",
       "      <td>5</td>\n",
       "      <td>My preferred soap</td>\n",
       "      <td>{'neg': 0.0, 'neu': 1.0, 'pos': 0.0, 'compound...</td>\n",
       "      <td>0.0000</td>\n",
       "      <td>pos</td>\n",
       "      <td>neg</td>\n",
       "    </tr>\n",
       "    <tr>\n",
       "      <th>2779</th>\n",
       "      <td>2</td>\n",
       "      <td>ठीक नहीं लगा</td>\n",
       "      <td>{'neg': 0.0, 'neu': 1.0, 'pos': 0.0, 'compound...</td>\n",
       "      <td>0.0000</td>\n",
       "      <td>neg</td>\n",
       "      <td>neg</td>\n",
       "    </tr>\n",
       "    <tr>\n",
       "      <th>2780</th>\n",
       "      <td>4</td>\n",
       "      <td>Super Product</td>\n",
       "      <td>{'neg': 0.0, 'neu': 0.204, 'pos': 0.796, 'comp...</td>\n",
       "      <td>0.5994</td>\n",
       "      <td>pos</td>\n",
       "      <td>pos</td>\n",
       "    </tr>\n",
       "    <tr>\n",
       "      <th>2781</th>\n",
       "      <td>5</td>\n",
       "      <td>Best soothing, cooling fragrance for hot summe...</td>\n",
       "      <td>{'neg': 0.0, 'neu': 0.68, 'pos': 0.32, 'compou...</td>\n",
       "      <td>0.8720</td>\n",
       "      <td>pos</td>\n",
       "      <td>pos</td>\n",
       "    </tr>\n",
       "  </tbody>\n",
       "</table>\n",
       "<p>2776 rows × 6 columns</p>\n",
       "</div>"
      ],
      "text/plain": [
       "      rating                                             review  \\\n",
       "0          1  I bought this hair oil after viewing so many g...   \n",
       "1          5  Used This Mama Earth Newly Launched Onion Oil ...   \n",
       "2          1  So bad product...My hair falling increase too ...   \n",
       "3          1  Product just smells similar to navarathna hair...   \n",
       "4          5  I have been trying different onion oil for my ...   \n",
       "...      ...                                                ...   \n",
       "2777       5         Long lasting freshness throughout the day.   \n",
       "2778       5                                  My preferred soap   \n",
       "2779       2                                       ठीक नहीं लगा   \n",
       "2780       4                                      Super Product   \n",
       "2781       5  Best soothing, cooling fragrance for hot summe...   \n",
       "\n",
       "                                                 scores  compound  \\\n",
       "0     {'neg': 0.074, 'neu': 0.741, 'pos': 0.186, 'co...    0.9102   \n",
       "1     {'neg': 0.074, 'neu': 0.734, 'pos': 0.192, 'co...    0.8856   \n",
       "2     {'neg': 0.24, 'neu': 0.617, 'pos': 0.144, 'com...   -0.4224   \n",
       "3     {'neg': 0.227, 'neu': 0.696, 'pos': 0.078, 'co...   -0.9577   \n",
       "4     {'neg': 0.035, 'neu': 0.795, 'pos': 0.17, 'com...    0.8597   \n",
       "...                                                 ...       ...   \n",
       "2777  {'neg': 0.0, 'neu': 1.0, 'pos': 0.0, 'compound...    0.0000   \n",
       "2778  {'neg': 0.0, 'neu': 1.0, 'pos': 0.0, 'compound...    0.0000   \n",
       "2779  {'neg': 0.0, 'neu': 1.0, 'pos': 0.0, 'compound...    0.0000   \n",
       "2780  {'neg': 0.0, 'neu': 0.204, 'pos': 0.796, 'comp...    0.5994   \n",
       "2781  {'neg': 0.0, 'neu': 0.68, 'pos': 0.32, 'compou...    0.8720   \n",
       "\n",
       "     binary_rating comp_score  \n",
       "0              neg        pos  \n",
       "1              pos        pos  \n",
       "2              neg        neg  \n",
       "3              neg        neg  \n",
       "4              pos        pos  \n",
       "...            ...        ...  \n",
       "2777           pos        neg  \n",
       "2778           pos        neg  \n",
       "2779           neg        neg  \n",
       "2780           pos        pos  \n",
       "2781           pos        pos  \n",
       "\n",
       "[2776 rows x 6 columns]"
      ]
     },
     "execution_count": 79,
     "metadata": {},
     "output_type": "execute_result"
    }
   ],
   "source": [
    "df_cleaned\n"
   ]
  },
  {
   "cell_type": "code",
   "execution_count": 80,
   "id": "4083e920-f667-4cc3-90d8-1f74b11fc1e9",
   "metadata": {},
   "outputs": [],
   "source": [
    "df_cleaned['binary_rating']=df_cleaned['binary_rating'].astype('category')\n",
    "df_cleaned['binary_rating']=df_cleaned['binary_rating'].cat.codes"
   ]
  },
  {
   "cell_type": "code",
   "execution_count": null,
   "id": "742a1314-576b-4d5e-b4ea-f4909b1b33ea",
   "metadata": {},
   "outputs": [],
   "source": []
  },
  {
   "cell_type": "code",
   "execution_count": 81,
   "id": "6cd45718-8b7a-4fac-bd33-d58c7b1a3e79",
   "metadata": {},
   "outputs": [],
   "source": [
    "from sklearn.model_selection import train_test_split\n",
    "X_train, X_test, y_train, y_test = train_test_split(x, df_cleaned['binary_rating'], test_size=0.3, random_state=42)\n"
   ]
  },
  {
   "cell_type": "code",
   "execution_count": 82,
   "id": "cdc9607a-1ada-4015-bf23-a690bce0e6a2",
   "metadata": {},
   "outputs": [
    {
     "data": {
      "text/html": [
       "<style>#sk-container-id-1 {color: black;background-color: white;}#sk-container-id-1 pre{padding: 0;}#sk-container-id-1 div.sk-toggleable {background-color: white;}#sk-container-id-1 label.sk-toggleable__label {cursor: pointer;display: block;width: 100%;margin-bottom: 0;padding: 0.3em;box-sizing: border-box;text-align: center;}#sk-container-id-1 label.sk-toggleable__label-arrow:before {content: \"▸\";float: left;margin-right: 0.25em;color: #696969;}#sk-container-id-1 label.sk-toggleable__label-arrow:hover:before {color: black;}#sk-container-id-1 div.sk-estimator:hover label.sk-toggleable__label-arrow:before {color: black;}#sk-container-id-1 div.sk-toggleable__content {max-height: 0;max-width: 0;overflow: hidden;text-align: left;background-color: #f0f8ff;}#sk-container-id-1 div.sk-toggleable__content pre {margin: 0.2em;color: black;border-radius: 0.25em;background-color: #f0f8ff;}#sk-container-id-1 input.sk-toggleable__control:checked~div.sk-toggleable__content {max-height: 200px;max-width: 100%;overflow: auto;}#sk-container-id-1 input.sk-toggleable__control:checked~label.sk-toggleable__label-arrow:before {content: \"▾\";}#sk-container-id-1 div.sk-estimator input.sk-toggleable__control:checked~label.sk-toggleable__label {background-color: #d4ebff;}#sk-container-id-1 div.sk-label input.sk-toggleable__control:checked~label.sk-toggleable__label {background-color: #d4ebff;}#sk-container-id-1 input.sk-hidden--visually {border: 0;clip: rect(1px 1px 1px 1px);clip: rect(1px, 1px, 1px, 1px);height: 1px;margin: -1px;overflow: hidden;padding: 0;position: absolute;width: 1px;}#sk-container-id-1 div.sk-estimator {font-family: monospace;background-color: #f0f8ff;border: 1px dotted black;border-radius: 0.25em;box-sizing: border-box;margin-bottom: 0.5em;}#sk-container-id-1 div.sk-estimator:hover {background-color: #d4ebff;}#sk-container-id-1 div.sk-parallel-item::after {content: \"\";width: 100%;border-bottom: 1px solid gray;flex-grow: 1;}#sk-container-id-1 div.sk-label:hover label.sk-toggleable__label {background-color: #d4ebff;}#sk-container-id-1 div.sk-serial::before {content: \"\";position: absolute;border-left: 1px solid gray;box-sizing: border-box;top: 0;bottom: 0;left: 50%;z-index: 0;}#sk-container-id-1 div.sk-serial {display: flex;flex-direction: column;align-items: center;background-color: white;padding-right: 0.2em;padding-left: 0.2em;position: relative;}#sk-container-id-1 div.sk-item {position: relative;z-index: 1;}#sk-container-id-1 div.sk-parallel {display: flex;align-items: stretch;justify-content: center;background-color: white;position: relative;}#sk-container-id-1 div.sk-item::before, #sk-container-id-1 div.sk-parallel-item::before {content: \"\";position: absolute;border-left: 1px solid gray;box-sizing: border-box;top: 0;bottom: 0;left: 50%;z-index: -1;}#sk-container-id-1 div.sk-parallel-item {display: flex;flex-direction: column;z-index: 1;position: relative;background-color: white;}#sk-container-id-1 div.sk-parallel-item:first-child::after {align-self: flex-end;width: 50%;}#sk-container-id-1 div.sk-parallel-item:last-child::after {align-self: flex-start;width: 50%;}#sk-container-id-1 div.sk-parallel-item:only-child::after {width: 0;}#sk-container-id-1 div.sk-dashed-wrapped {border: 1px dashed gray;margin: 0 0.4em 0.5em 0.4em;box-sizing: border-box;padding-bottom: 0.4em;background-color: white;}#sk-container-id-1 div.sk-label label {font-family: monospace;font-weight: bold;display: inline-block;line-height: 1.2em;}#sk-container-id-1 div.sk-label-container {text-align: center;}#sk-container-id-1 div.sk-container {/* jupyter's `normalize.less` sets `[hidden] { display: none; }` but bootstrap.min.css set `[hidden] { display: none !important; }` so we also need the `!important` here to be able to override the default hidden behavior on the sphinx rendered scikit-learn.org. See: https://github.com/scikit-learn/scikit-learn/issues/21755 */display: inline-block !important;position: relative;}#sk-container-id-1 div.sk-text-repr-fallback {display: none;}</style><div id=\"sk-container-id-1\" class=\"sk-top-container\"><div class=\"sk-text-repr-fallback\"><pre>RandomForestClassifier()</pre><b>In a Jupyter environment, please rerun this cell to show the HTML representation or trust the notebook. <br />On GitHub, the HTML representation is unable to render, please try loading this page with nbviewer.org.</b></div><div class=\"sk-container\" hidden><div class=\"sk-item\"><div class=\"sk-estimator sk-toggleable\"><input class=\"sk-toggleable__control sk-hidden--visually\" id=\"sk-estimator-id-1\" type=\"checkbox\" checked><label for=\"sk-estimator-id-1\" class=\"sk-toggleable__label sk-toggleable__label-arrow\">RandomForestClassifier</label><div class=\"sk-toggleable__content\"><pre>RandomForestClassifier()</pre></div></div></div></div></div>"
      ],
      "text/plain": [
       "RandomForestClassifier()"
      ]
     },
     "execution_count": 82,
     "metadata": {},
     "output_type": "execute_result"
    }
   ],
   "source": [
    "from sklearn.ensemble import RandomForestClassifier\n",
    "rf = RandomForestClassifier()\n",
    "rf.fit(X_train, y_train)\n"
   ]
  },
  {
   "cell_type": "code",
   "execution_count": 83,
   "id": "4fcee89e-1bc0-483b-9ce8-772d851be49d",
   "metadata": {},
   "outputs": [],
   "source": [
    "y_pred_train=rf.predict(X_train)\n",
    "y_pred_test=rf.predict(X_test)"
   ]
  },
  {
   "cell_type": "code",
   "execution_count": 84,
   "id": "a00da253-56c4-429a-8a9e-a8cd54d3cb94",
   "metadata": {},
   "outputs": [
    {
     "name": "stdout",
     "output_type": "stream",
     "text": [
      "training_accuracy:  0.9984559958826557\n",
      "testing_accuracy:  0.9603841536614646\n"
     ]
    }
   ],
   "source": [
    "print(\"training_accuracy: \",accuracy_score(y_train,y_pred_train))\n",
    "print(\"testing_accuracy: \",accuracy_score(y_test,y_pred_test))"
   ]
  },
  {
   "cell_type": "code",
   "execution_count": 85,
   "id": "1015bcb7-a5b9-4fe3-9c96-b6a34728fe5c",
   "metadata": {},
   "outputs": [],
   "source": [
    "from sklearn.model_selection import train_test_split\n",
    "X_train, X_test, y_train, y_test = train_test_split(x, df_cleaned['rating'], test_size=0.3, random_state=42)\n"
   ]
  },
  {
   "cell_type": "code",
   "execution_count": 86,
   "id": "693ec806-3170-46ce-a8cd-caf1b57a2ac1",
   "metadata": {},
   "outputs": [
    {
     "data": {
      "text/html": [
       "<style>#sk-container-id-2 {color: black;background-color: white;}#sk-container-id-2 pre{padding: 0;}#sk-container-id-2 div.sk-toggleable {background-color: white;}#sk-container-id-2 label.sk-toggleable__label {cursor: pointer;display: block;width: 100%;margin-bottom: 0;padding: 0.3em;box-sizing: border-box;text-align: center;}#sk-container-id-2 label.sk-toggleable__label-arrow:before {content: \"▸\";float: left;margin-right: 0.25em;color: #696969;}#sk-container-id-2 label.sk-toggleable__label-arrow:hover:before {color: black;}#sk-container-id-2 div.sk-estimator:hover label.sk-toggleable__label-arrow:before {color: black;}#sk-container-id-2 div.sk-toggleable__content {max-height: 0;max-width: 0;overflow: hidden;text-align: left;background-color: #f0f8ff;}#sk-container-id-2 div.sk-toggleable__content pre {margin: 0.2em;color: black;border-radius: 0.25em;background-color: #f0f8ff;}#sk-container-id-2 input.sk-toggleable__control:checked~div.sk-toggleable__content {max-height: 200px;max-width: 100%;overflow: auto;}#sk-container-id-2 input.sk-toggleable__control:checked~label.sk-toggleable__label-arrow:before {content: \"▾\";}#sk-container-id-2 div.sk-estimator input.sk-toggleable__control:checked~label.sk-toggleable__label {background-color: #d4ebff;}#sk-container-id-2 div.sk-label input.sk-toggleable__control:checked~label.sk-toggleable__label {background-color: #d4ebff;}#sk-container-id-2 input.sk-hidden--visually {border: 0;clip: rect(1px 1px 1px 1px);clip: rect(1px, 1px, 1px, 1px);height: 1px;margin: -1px;overflow: hidden;padding: 0;position: absolute;width: 1px;}#sk-container-id-2 div.sk-estimator {font-family: monospace;background-color: #f0f8ff;border: 1px dotted black;border-radius: 0.25em;box-sizing: border-box;margin-bottom: 0.5em;}#sk-container-id-2 div.sk-estimator:hover {background-color: #d4ebff;}#sk-container-id-2 div.sk-parallel-item::after {content: \"\";width: 100%;border-bottom: 1px solid gray;flex-grow: 1;}#sk-container-id-2 div.sk-label:hover label.sk-toggleable__label {background-color: #d4ebff;}#sk-container-id-2 div.sk-serial::before {content: \"\";position: absolute;border-left: 1px solid gray;box-sizing: border-box;top: 0;bottom: 0;left: 50%;z-index: 0;}#sk-container-id-2 div.sk-serial {display: flex;flex-direction: column;align-items: center;background-color: white;padding-right: 0.2em;padding-left: 0.2em;position: relative;}#sk-container-id-2 div.sk-item {position: relative;z-index: 1;}#sk-container-id-2 div.sk-parallel {display: flex;align-items: stretch;justify-content: center;background-color: white;position: relative;}#sk-container-id-2 div.sk-item::before, #sk-container-id-2 div.sk-parallel-item::before {content: \"\";position: absolute;border-left: 1px solid gray;box-sizing: border-box;top: 0;bottom: 0;left: 50%;z-index: -1;}#sk-container-id-2 div.sk-parallel-item {display: flex;flex-direction: column;z-index: 1;position: relative;background-color: white;}#sk-container-id-2 div.sk-parallel-item:first-child::after {align-self: flex-end;width: 50%;}#sk-container-id-2 div.sk-parallel-item:last-child::after {align-self: flex-start;width: 50%;}#sk-container-id-2 div.sk-parallel-item:only-child::after {width: 0;}#sk-container-id-2 div.sk-dashed-wrapped {border: 1px dashed gray;margin: 0 0.4em 0.5em 0.4em;box-sizing: border-box;padding-bottom: 0.4em;background-color: white;}#sk-container-id-2 div.sk-label label {font-family: monospace;font-weight: bold;display: inline-block;line-height: 1.2em;}#sk-container-id-2 div.sk-label-container {text-align: center;}#sk-container-id-2 div.sk-container {/* jupyter's `normalize.less` sets `[hidden] { display: none; }` but bootstrap.min.css set `[hidden] { display: none !important; }` so we also need the `!important` here to be able to override the default hidden behavior on the sphinx rendered scikit-learn.org. See: https://github.com/scikit-learn/scikit-learn/issues/21755 */display: inline-block !important;position: relative;}#sk-container-id-2 div.sk-text-repr-fallback {display: none;}</style><div id=\"sk-container-id-2\" class=\"sk-top-container\"><div class=\"sk-text-repr-fallback\"><pre>RandomForestClassifier()</pre><b>In a Jupyter environment, please rerun this cell to show the HTML representation or trust the notebook. <br />On GitHub, the HTML representation is unable to render, please try loading this page with nbviewer.org.</b></div><div class=\"sk-container\" hidden><div class=\"sk-item\"><div class=\"sk-estimator sk-toggleable\"><input class=\"sk-toggleable__control sk-hidden--visually\" id=\"sk-estimator-id-2\" type=\"checkbox\" checked><label for=\"sk-estimator-id-2\" class=\"sk-toggleable__label sk-toggleable__label-arrow\">RandomForestClassifier</label><div class=\"sk-toggleable__content\"><pre>RandomForestClassifier()</pre></div></div></div></div></div>"
      ],
      "text/plain": [
       "RandomForestClassifier()"
      ]
     },
     "execution_count": 86,
     "metadata": {},
     "output_type": "execute_result"
    }
   ],
   "source": [
    "rf.fit(X_train, y_train)"
   ]
  },
  {
   "cell_type": "code",
   "execution_count": 87,
   "id": "e6e1eb1c-5b7c-47dd-9c75-4f7620a0f95b",
   "metadata": {},
   "outputs": [],
   "source": [
    "y_pred_train=rf.predict(X_train)\n",
    "y_pred_test=rf.predict(X_test)"
   ]
  },
  {
   "cell_type": "code",
   "execution_count": 88,
   "id": "79f74f13-d243-4bbc-a7e5-2cf6fcabc7d1",
   "metadata": {},
   "outputs": [
    {
     "name": "stdout",
     "output_type": "stream",
     "text": [
      "training_accuracy:  0.9835306227483274\n",
      "testing_accuracy:  0.8991596638655462\n"
     ]
    }
   ],
   "source": [
    "print(\"training_accuracy: \",accuracy_score(y_train,y_pred_train))\n",
    "print(\"testing_accuracy: \",accuracy_score(y_test,y_pred_test))"
   ]
  },
  {
   "cell_type": "code",
   "execution_count": 95,
   "id": "e52b6805-d73a-4bff-bcf0-d22278ea5293",
   "metadata": {},
   "outputs": [
    {
     "data": {
      "text/plain": [
       "array([4, 5, 4, 5, 5, 5, 1, 5, 5, 5, 1, 1, 4, 5, 5, 5, 1, 4, 5, 1, 5, 1,\n",
       "       5, 5, 5, 5, 4, 5, 4, 5, 5, 5, 5, 5, 5, 5, 4, 5, 2, 5, 5, 5, 5, 5,\n",
       "       4, 5, 1, 4, 1, 5, 5, 5, 5, 3, 1, 1, 5, 5, 4, 1, 3, 3, 1, 2, 1, 5,\n",
       "       5, 4, 5, 3, 5, 5, 5, 1, 3, 5, 2, 5, 5, 5, 1, 5, 5, 5, 5, 5, 5, 5,\n",
       "       4, 1, 5, 5, 5, 5, 5, 3, 5, 5, 5, 3, 5, 1, 5, 1, 5, 5, 5, 5, 5, 4,\n",
       "       5, 4, 5, 5, 5, 5, 5, 1, 5, 1, 5, 1, 5, 5, 5, 1, 5, 4, 5, 5, 5, 1,\n",
       "       5, 5, 1, 1, 5, 5, 4, 5, 5, 1, 1, 5, 4, 4, 5, 5, 1, 5, 5, 5, 1, 5,\n",
       "       5, 5, 5, 1, 5, 5, 3, 5, 4, 3, 5, 5, 5, 3, 5, 5, 5, 5, 5, 5, 5, 5,\n",
       "       5, 1, 1, 5, 1, 5, 5, 5, 5, 5, 1, 5, 5, 1, 5, 5, 5, 4, 1, 5, 5, 4,\n",
       "       3, 4, 1, 1, 3, 3, 5, 5, 1, 5, 1, 2, 5, 5, 5, 3, 5, 4, 5, 5, 5, 4,\n",
       "       3, 5, 5, 5, 3, 3, 3, 1, 5, 3, 5, 2, 5, 5, 4, 1, 5, 5, 5, 5, 5, 5,\n",
       "       1, 5, 1, 5, 5, 5, 4, 5, 5, 3, 5, 5, 3, 3, 1, 5, 5, 5, 2, 4, 3, 4,\n",
       "       5, 5, 4, 5, 5, 5, 5, 4, 5, 5, 5, 5, 2, 5, 5, 5, 5, 4, 5, 3, 5, 5,\n",
       "       4, 5, 5, 5, 5, 5, 5, 1, 4, 5, 5, 4, 3, 1, 1, 5, 1, 1, 3, 4, 2, 1,\n",
       "       5, 3, 5, 4, 5, 5, 4, 4, 1, 5, 4, 5, 4, 5, 1, 1, 5, 4, 5, 5, 5, 5,\n",
       "       5, 2, 5, 1, 1, 5, 5, 4, 1, 5, 2, 5, 5, 1, 5, 3, 5, 5, 4, 1, 5, 1,\n",
       "       5, 1, 5, 4, 5, 5, 4, 5, 1, 5, 1, 3, 2, 5, 5, 4, 5, 4, 5, 5, 5, 4,\n",
       "       5, 5, 5, 5, 5, 5, 5, 5, 4, 4, 5, 5, 5, 5, 2, 5, 5, 5, 5, 1, 5, 5,\n",
       "       5, 3, 3, 1, 1, 4, 5, 5, 1, 5, 4, 5, 4, 5, 5, 5, 5, 1, 5, 1, 5, 1,\n",
       "       5, 4, 5, 4, 5, 5, 4, 5, 5, 5, 5, 5, 5, 1, 5, 4, 1, 5, 5, 5, 5, 5,\n",
       "       5, 4, 5, 5, 5, 1, 5, 5, 5, 5, 4, 1, 1, 5, 1, 5, 5, 5, 5, 5, 4, 1,\n",
       "       5, 5, 5, 5, 5, 5, 5, 4, 1, 5, 4, 5, 4, 3, 1, 1, 4, 5, 4, 5, 4, 1,\n",
       "       5, 5, 4, 5, 4, 5, 5, 5, 5, 2, 3, 4, 1, 4, 5, 4, 5, 5, 3, 5, 5, 5,\n",
       "       5, 2, 5, 5, 5, 5, 4, 5, 1, 5, 1, 5, 1, 5, 5, 5, 1, 4, 5, 2, 1, 4,\n",
       "       5, 1, 5, 4, 5, 4, 1, 5, 1, 4, 1, 5, 5, 5, 1, 5, 5, 5, 3, 5, 5, 5,\n",
       "       5, 5, 5, 4, 3, 2, 2, 4, 5, 5, 1, 5, 3, 4, 4, 5, 5, 4, 4, 5, 5, 5,\n",
       "       1, 5, 5, 1, 4, 5, 4, 5, 5, 1, 3, 5, 5, 5, 1, 5, 5, 5, 3, 4, 5, 5,\n",
       "       2, 4, 4, 5, 5, 5, 5, 1, 5, 1, 5, 5, 1, 1, 4, 2, 1, 4, 5, 3, 4, 5,\n",
       "       5, 5, 1, 1, 4, 5, 5, 4, 5, 5, 3, 5, 1, 5, 5, 5, 1, 5, 1, 5, 5, 5,\n",
       "       5, 5, 5, 5, 5, 4, 4, 1, 3, 5, 5, 5, 1, 5, 1, 4, 5, 5, 5, 1, 5, 5,\n",
       "       5, 5, 5, 5, 5, 5, 5, 2, 1, 1, 5, 5, 5, 5, 5, 5, 5, 4, 5, 5, 5, 3,\n",
       "       5, 4, 5, 4, 5, 5, 5, 5, 1, 5, 5, 5, 5, 4, 4, 5, 5, 5, 4, 5, 5, 5,\n",
       "       5, 5, 4, 5, 5, 5, 2, 5, 5, 5, 5, 1, 5, 5, 1, 5, 5, 1, 5, 3, 5, 5,\n",
       "       5, 4, 5, 5, 5, 3, 5, 1, 5, 5, 5, 1, 3, 5, 4, 1, 1, 5, 4, 1, 5, 5,\n",
       "       5, 1, 5, 1, 5, 5, 5, 5, 5, 1, 5, 5, 4, 5, 1, 1, 5, 5, 3, 5, 5, 4,\n",
       "       5, 5, 5, 5, 5, 5, 5, 5, 2, 4, 4, 5, 5, 1, 1, 5, 5, 5, 5, 4, 5, 5,\n",
       "       1, 3, 5, 5, 5, 5, 5, 4, 1, 1, 5, 5, 5, 5, 5, 5, 1, 5, 5, 5, 4, 5,\n",
       "       4, 5, 1, 5, 5, 5, 5, 1, 4, 5, 5, 5, 1, 4, 1, 5, 5, 4, 3],\n",
       "      dtype=int64)"
      ]
     },
     "execution_count": 95,
     "metadata": {},
     "output_type": "execute_result"
    }
   ],
   "source": [
    "y_pred_test"
   ]
  },
  {
   "cell_type": "code",
   "execution_count": 96,
   "id": "3240e6d8-048c-4bf9-b5f4-1a5864bc8e62",
   "metadata": {},
   "outputs": [
    {
     "data": {
      "text/plain": [
       "879     3\n",
       "1989    5\n",
       "889     3\n",
       "912     5\n",
       "1596    5\n",
       "       ..\n",
       "2375    1\n",
       "1268    5\n",
       "647     5\n",
       "2443    4\n",
       "2270    3\n",
       "Name: rating, Length: 833, dtype: int64"
      ]
     },
     "execution_count": 96,
     "metadata": {},
     "output_type": "execute_result"
    }
   ],
   "source": [
    "y_test"
   ]
  },
  {
   "cell_type": "code",
   "execution_count": 98,
   "id": "cc494799-dc0c-414b-a933-f3e0d4501c3a",
   "metadata": {},
   "outputs": [
    {
     "data": {
      "text/plain": [
       "\"I have been using this product for some time now. My Roommate had this and I had been planning to order for a while now. I just used to forget all the time, finally I have it now.Well from the last 2 months of use, here's my experience with the product:I use it every night and get a shower in the morning.Pros:1. The oil is non greasy, and pretty light.2. Has very good smell.no pungent or awkward fragrance3. My hair doesn't lump in together as with other hair oil products.4.Gives a pretty good shine and dark color5. It's very helpful for dandruff, hairfall/ hairloss. I don't have a very dense hair presence so my scalp was visible all the time, Now it looks pretty dense.Cons.1 .can't find anything at allI do recommend it for people having hairfall issues.\""
      ]
     },
     "execution_count": 98,
     "metadata": {},
     "output_type": "execute_result"
    }
   ],
   "source": [
    "\n",
    "df_cleaned['review'][5]\n"
   ]
  },
  {
   "cell_type": "code",
   "execution_count": null,
   "id": "cb5dcaf0-97b9-4b9b-b85d-60b68534bce5",
   "metadata": {},
   "outputs": [],
   "source": []
  }
 ],
 "metadata": {
  "kernelspec": {
   "display_name": "Python 3 (ipykernel)",
   "language": "python",
   "name": "python3"
  },
  "language_info": {
   "codemirror_mode": {
    "name": "ipython",
    "version": 3
   },
   "file_extension": ".py",
   "mimetype": "text/x-python",
   "name": "python",
   "nbconvert_exporter": "python",
   "pygments_lexer": "ipython3",
   "version": "3.11.7"
  }
 },
 "nbformat": 4,
 "nbformat_minor": 5
}
